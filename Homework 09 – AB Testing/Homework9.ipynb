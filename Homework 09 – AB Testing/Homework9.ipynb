{
 "cells": [
  {
   "cell_type": "markdown",
   "id": "d3d2e210",
   "metadata": {},
   "source": [
    "# A/B Testing (Youtube vs Netflix)"
   ]
  },
  {
   "cell_type": "markdown",
   "id": "88d902e0",
   "metadata": {},
   "source": [
    "## Import Library"
   ]
  },
  {
   "cell_type": "code",
   "execution_count": 23,
   "id": "b14e225d",
   "metadata": {},
   "outputs": [],
   "source": [
    "from scipy import stats as st\n",
    "import pandas as pd"
   ]
  },
  {
   "cell_type": "markdown",
   "id": "97556a87",
   "metadata": {},
   "source": [
    "## Show Example Data"
   ]
  },
  {
   "cell_type": "code",
   "execution_count": 24,
   "id": "340fa541",
   "metadata": {},
   "outputs": [
    {
     "data": {
      "text/html": [
       "<div>\n",
       "<style scoped>\n",
       "    .dataframe tbody tr th:only-of-type {\n",
       "        vertical-align: middle;\n",
       "    }\n",
       "\n",
       "    .dataframe tbody tr th {\n",
       "        vertical-align: top;\n",
       "    }\n",
       "\n",
       "    .dataframe thead th {\n",
       "        text-align: right;\n",
       "    }\n",
       "</style>\n",
       "<table border=\"1\" class=\"dataframe\">\n",
       "  <thead>\n",
       "    <tr style=\"text-align: right;\">\n",
       "      <th></th>\n",
       "      <th>คุณมีความสนใจในสิ่งเหล่านี้มากน้อยเพียงใด [ดู Youtube]</th>\n",
       "      <th>คุณมีความสนใจในสิ่งเหล่านี้มากน้อยเพียงใด [ดู Netflix]</th>\n",
       "      <th>คุณบริโภคสิ่งเหล่านี้บ่อยขนาดไหน [ดู Youtube]</th>\n",
       "      <th>คุณบริโภคสิ่งเหล่านี้บ่อยขนาดไหน [ดู Netflix]</th>\n",
       "      <th>เพศ</th>\n",
       "    </tr>\n",
       "  </thead>\n",
       "  <tbody>\n",
       "    <tr>\n",
       "      <th>0</th>\n",
       "      <td>สนใจ</td>\n",
       "      <td>สนใจอย่างมากที่สุด</td>\n",
       "      <td>อาทิตย์ละครั้ง</td>\n",
       "      <td>อาทิตย์ละครั้ง</td>\n",
       "      <td>ชาย</td>\n",
       "    </tr>\n",
       "    <tr>\n",
       "      <th>1</th>\n",
       "      <td>สนใจอย่างมากที่สุด</td>\n",
       "      <td>สนใจอย่างมาก</td>\n",
       "      <td>แทบทุกวัน</td>\n",
       "      <td>เดือนละ 2-3 ครั้ง</td>\n",
       "      <td>หญิง</td>\n",
       "    </tr>\n",
       "    <tr>\n",
       "      <th>2</th>\n",
       "      <td>สนใจอย่างมากที่สุด</td>\n",
       "      <td>สนใจอย่างมากที่สุด</td>\n",
       "      <td>แทบทุกวัน</td>\n",
       "      <td>แทบทุกวัน</td>\n",
       "      <td>ชาย</td>\n",
       "    </tr>\n",
       "    <tr>\n",
       "      <th>3</th>\n",
       "      <td>สนใจอย่างมากที่สุด</td>\n",
       "      <td>สนใจอย่างมากที่สุด</td>\n",
       "      <td>อาทิตย์ละครั้ง</td>\n",
       "      <td>อาทิตย์ละครั้ง</td>\n",
       "      <td>ชาย</td>\n",
       "    </tr>\n",
       "    <tr>\n",
       "      <th>4</th>\n",
       "      <td>เฉยๆ</td>\n",
       "      <td>สนใจอย่างมากที่สุด</td>\n",
       "      <td>เดือนละ 2-3 ครั้ง</td>\n",
       "      <td>อาทิตย์ละครั้ง</td>\n",
       "      <td>หญิง</td>\n",
       "    </tr>\n",
       "  </tbody>\n",
       "</table>\n",
       "</div>"
      ],
      "text/plain": [
       "  คุณมีความสนใจในสิ่งเหล่านี้มากน้อยเพียงใด [ดู Youtube]  \\\n",
       "0                                               สนใจ       \n",
       "1                                 สนใจอย่างมากที่สุด       \n",
       "2                                 สนใจอย่างมากที่สุด       \n",
       "3                                 สนใจอย่างมากที่สุด       \n",
       "4                                               เฉยๆ       \n",
       "\n",
       "  คุณมีความสนใจในสิ่งเหล่านี้มากน้อยเพียงใด [ดู Netflix]  \\\n",
       "0                                 สนใจอย่างมากที่สุด       \n",
       "1                                       สนใจอย่างมาก       \n",
       "2                                 สนใจอย่างมากที่สุด       \n",
       "3                                 สนใจอย่างมากที่สุด       \n",
       "4                                 สนใจอย่างมากที่สุด       \n",
       "\n",
       "  คุณบริโภคสิ่งเหล่านี้บ่อยขนาดไหน [ดู Youtube]  \\\n",
       "0                                อาทิตย์ละครั้ง   \n",
       "1                                     แทบทุกวัน   \n",
       "2                                     แทบทุกวัน   \n",
       "3                                อาทิตย์ละครั้ง   \n",
       "4                             เดือนละ 2-3 ครั้ง   \n",
       "\n",
       "  คุณบริโภคสิ่งเหล่านี้บ่อยขนาดไหน [ดู Netflix]   เพศ  \n",
       "0                                อาทิตย์ละครั้ง   ชาย  \n",
       "1                             เดือนละ 2-3 ครั้ง  หญิง  \n",
       "2                                     แทบทุกวัน   ชาย  \n",
       "3                                อาทิตย์ละครั้ง   ชาย  \n",
       "4                                อาทิตย์ละครั้ง  หญิง  "
      ]
     },
     "execution_count": 24,
     "metadata": {},
     "output_type": "execute_result"
    }
   ],
   "source": [
    "df = pd.read_excel('YoutubeVSNetflix.xlsx', sheet_name='Form Responses 1')\n",
    "df.head()"
   ]
  },
  {
   "cell_type": "markdown",
   "id": "cc2bbb5b",
   "metadata": {},
   "source": [
    "## Rename Columns"
   ]
  },
  {
   "cell_type": "code",
   "execution_count": 25,
   "id": "9697fa60",
   "metadata": {
    "scrolled": true
   },
   "outputs": [
    {
     "data": {
      "text/plain": [
       "Index(['คุณมีความสนใจในสิ่งเหล่านี้มากน้อยเพียงใด [ดู Youtube]',\n",
       "       'คุณมีความสนใจในสิ่งเหล่านี้มากน้อยเพียงใด [ดู Netflix]',\n",
       "       'คุณบริโภคสิ่งเหล่านี้บ่อยขนาดไหน [ดู Youtube]',\n",
       "       'คุณบริโภคสิ่งเหล่านี้บ่อยขนาดไหน [ดู Netflix]', 'เพศ'],\n",
       "      dtype='object')"
      ]
     },
     "execution_count": 25,
     "metadata": {},
     "output_type": "execute_result"
    }
   ],
   "source": [
    "df.columns"
   ]
  },
  {
   "cell_type": "code",
   "execution_count": 26,
   "id": "9c228938",
   "metadata": {},
   "outputs": [
    {
     "data": {
      "text/html": [
       "<div>\n",
       "<style scoped>\n",
       "    .dataframe tbody tr th:only-of-type {\n",
       "        vertical-align: middle;\n",
       "    }\n",
       "\n",
       "    .dataframe tbody tr th {\n",
       "        vertical-align: top;\n",
       "    }\n",
       "\n",
       "    .dataframe thead th {\n",
       "        text-align: right;\n",
       "    }\n",
       "</style>\n",
       "<table border=\"1\" class=\"dataframe\">\n",
       "  <thead>\n",
       "    <tr style=\"text-align: right;\">\n",
       "      <th></th>\n",
       "      <th>interested_youtube</th>\n",
       "      <th>interested_netflix</th>\n",
       "      <th>freq_youtube</th>\n",
       "      <th>freq_netflix</th>\n",
       "      <th>gender</th>\n",
       "    </tr>\n",
       "  </thead>\n",
       "  <tbody>\n",
       "    <tr>\n",
       "      <th>0</th>\n",
       "      <td>สนใจ</td>\n",
       "      <td>สนใจอย่างมากที่สุด</td>\n",
       "      <td>อาทิตย์ละครั้ง</td>\n",
       "      <td>อาทิตย์ละครั้ง</td>\n",
       "      <td>ชาย</td>\n",
       "    </tr>\n",
       "    <tr>\n",
       "      <th>1</th>\n",
       "      <td>สนใจอย่างมากที่สุด</td>\n",
       "      <td>สนใจอย่างมาก</td>\n",
       "      <td>แทบทุกวัน</td>\n",
       "      <td>เดือนละ 2-3 ครั้ง</td>\n",
       "      <td>หญิง</td>\n",
       "    </tr>\n",
       "    <tr>\n",
       "      <th>2</th>\n",
       "      <td>สนใจอย่างมากที่สุด</td>\n",
       "      <td>สนใจอย่างมากที่สุด</td>\n",
       "      <td>แทบทุกวัน</td>\n",
       "      <td>แทบทุกวัน</td>\n",
       "      <td>ชาย</td>\n",
       "    </tr>\n",
       "    <tr>\n",
       "      <th>3</th>\n",
       "      <td>สนใจอย่างมากที่สุด</td>\n",
       "      <td>สนใจอย่างมากที่สุด</td>\n",
       "      <td>อาทิตย์ละครั้ง</td>\n",
       "      <td>อาทิตย์ละครั้ง</td>\n",
       "      <td>ชาย</td>\n",
       "    </tr>\n",
       "    <tr>\n",
       "      <th>4</th>\n",
       "      <td>เฉยๆ</td>\n",
       "      <td>สนใจอย่างมากที่สุด</td>\n",
       "      <td>เดือนละ 2-3 ครั้ง</td>\n",
       "      <td>อาทิตย์ละครั้ง</td>\n",
       "      <td>หญิง</td>\n",
       "    </tr>\n",
       "  </tbody>\n",
       "</table>\n",
       "</div>"
      ],
      "text/plain": [
       "   interested_youtube  interested_netflix       freq_youtube  \\\n",
       "0                สนใจ  สนใจอย่างมากที่สุด     อาทิตย์ละครั้ง   \n",
       "1  สนใจอย่างมากที่สุด        สนใจอย่างมาก          แทบทุกวัน   \n",
       "2  สนใจอย่างมากที่สุด  สนใจอย่างมากที่สุด          แทบทุกวัน   \n",
       "3  สนใจอย่างมากที่สุด  สนใจอย่างมากที่สุด     อาทิตย์ละครั้ง   \n",
       "4                เฉยๆ  สนใจอย่างมากที่สุด  เดือนละ 2-3 ครั้ง   \n",
       "\n",
       "        freq_netflix gender  \n",
       "0     อาทิตย์ละครั้ง    ชาย  \n",
       "1  เดือนละ 2-3 ครั้ง   หญิง  \n",
       "2          แทบทุกวัน    ชาย  \n",
       "3     อาทิตย์ละครั้ง    ชาย  \n",
       "4     อาทิตย์ละครั้ง   หญิง  "
      ]
     },
     "execution_count": 26,
     "metadata": {},
     "output_type": "execute_result"
    }
   ],
   "source": [
    "df.columns = ['interested_youtube', 'interested_netflix', 'freq_youtube', 'freq_netflix', 'gender']\n",
    "df.head()"
   ]
  },
  {
   "cell_type": "markdown",
   "id": "19b085fb",
   "metadata": {},
   "source": [
    "## Replace text to numeric\n",
    "\n",
    "- Compare Interested streaming platfor between YouTube and Netflix"
   ]
  },
  {
   "cell_type": "code",
   "execution_count": 27,
   "id": "ea581713",
   "metadata": {},
   "outputs": [
    {
     "data": {
      "text/html": [
       "<div>\n",
       "<style scoped>\n",
       "    .dataframe tbody tr th:only-of-type {\n",
       "        vertical-align: middle;\n",
       "    }\n",
       "\n",
       "    .dataframe tbody tr th {\n",
       "        vertical-align: top;\n",
       "    }\n",
       "\n",
       "    .dataframe thead th {\n",
       "        text-align: right;\n",
       "    }\n",
       "</style>\n",
       "<table border=\"1\" class=\"dataframe\">\n",
       "  <thead>\n",
       "    <tr style=\"text-align: right;\">\n",
       "      <th></th>\n",
       "      <th>interested_youtube</th>\n",
       "      <th>interested_netflix</th>\n",
       "    </tr>\n",
       "  </thead>\n",
       "  <tbody>\n",
       "    <tr>\n",
       "      <th>0</th>\n",
       "      <td>สนใจ</td>\n",
       "      <td>สนใจอย่างมากที่สุด</td>\n",
       "    </tr>\n",
       "    <tr>\n",
       "      <th>1</th>\n",
       "      <td>สนใจอย่างมากที่สุด</td>\n",
       "      <td>สนใจอย่างมาก</td>\n",
       "    </tr>\n",
       "    <tr>\n",
       "      <th>2</th>\n",
       "      <td>สนใจอย่างมากที่สุด</td>\n",
       "      <td>สนใจอย่างมากที่สุด</td>\n",
       "    </tr>\n",
       "    <tr>\n",
       "      <th>3</th>\n",
       "      <td>สนใจอย่างมากที่สุด</td>\n",
       "      <td>สนใจอย่างมากที่สุด</td>\n",
       "    </tr>\n",
       "    <tr>\n",
       "      <th>4</th>\n",
       "      <td>เฉยๆ</td>\n",
       "      <td>สนใจอย่างมากที่สุด</td>\n",
       "    </tr>\n",
       "  </tbody>\n",
       "</table>\n",
       "</div>"
      ],
      "text/plain": [
       "   interested_youtube  interested_netflix\n",
       "0                สนใจ  สนใจอย่างมากที่สุด\n",
       "1  สนใจอย่างมากที่สุด        สนใจอย่างมาก\n",
       "2  สนใจอย่างมากที่สุด  สนใจอย่างมากที่สุด\n",
       "3  สนใจอย่างมากที่สุด  สนใจอย่างมากที่สุด\n",
       "4                เฉยๆ  สนใจอย่างมากที่สุด"
      ]
     },
     "execution_count": 27,
     "metadata": {},
     "output_type": "execute_result"
    }
   ],
   "source": [
    "df1 = df[['interested_youtube', 'interested_netflix']].replace(['ไม่สนใจอย่างมากที่สุด',\n",
    "                                                          'ไม่สนใจอย่างมาก',\n",
    "                                                          'ไม่สนใจ',\n",
    "                                                          'เฉยๆ',\n",
    "                                                          'สนใจ',\n",
    "                                                          'สนใจอย่างมาก',\n",
    "                                                          'สนใจอย่างมากที่สุด'],\n",
    "                                                        [0, 1, 2, 3, 4, 5, 6])\n",
    "df[['interested_youtube', 'interested_netflix']].head()"
   ]
  },
  {
   "cell_type": "markdown",
   "id": "194e8d8d",
   "metadata": {},
   "source": [
    "## Summary common statistical values"
   ]
  },
  {
   "cell_type": "code",
   "execution_count": 28,
   "id": "41b50ecc",
   "metadata": {
    "scrolled": true
   },
   "outputs": [
    {
     "data": {
      "text/html": [
       "<div>\n",
       "<style scoped>\n",
       "    .dataframe tbody tr th:only-of-type {\n",
       "        vertical-align: middle;\n",
       "    }\n",
       "\n",
       "    .dataframe tbody tr th {\n",
       "        vertical-align: top;\n",
       "    }\n",
       "\n",
       "    .dataframe thead th {\n",
       "        text-align: right;\n",
       "    }\n",
       "</style>\n",
       "<table border=\"1\" class=\"dataframe\">\n",
       "  <thead>\n",
       "    <tr style=\"text-align: right;\">\n",
       "      <th></th>\n",
       "      <th>interested_youtube</th>\n",
       "      <th>interested_netflix</th>\n",
       "    </tr>\n",
       "  </thead>\n",
       "  <tbody>\n",
       "    <tr>\n",
       "      <th>count</th>\n",
       "      <td>63.000000</td>\n",
       "      <td>63.000000</td>\n",
       "    </tr>\n",
       "    <tr>\n",
       "      <th>mean</th>\n",
       "      <td>4.603175</td>\n",
       "      <td>4.698413</td>\n",
       "    </tr>\n",
       "    <tr>\n",
       "      <th>std</th>\n",
       "      <td>1.100435</td>\n",
       "      <td>1.041632</td>\n",
       "    </tr>\n",
       "    <tr>\n",
       "      <th>min</th>\n",
       "      <td>1.000000</td>\n",
       "      <td>2.000000</td>\n",
       "    </tr>\n",
       "    <tr>\n",
       "      <th>25%</th>\n",
       "      <td>4.000000</td>\n",
       "      <td>4.000000</td>\n",
       "    </tr>\n",
       "    <tr>\n",
       "      <th>50%</th>\n",
       "      <td>5.000000</td>\n",
       "      <td>5.000000</td>\n",
       "    </tr>\n",
       "    <tr>\n",
       "      <th>75%</th>\n",
       "      <td>5.500000</td>\n",
       "      <td>5.000000</td>\n",
       "    </tr>\n",
       "    <tr>\n",
       "      <th>max</th>\n",
       "      <td>6.000000</td>\n",
       "      <td>6.000000</td>\n",
       "    </tr>\n",
       "  </tbody>\n",
       "</table>\n",
       "</div>"
      ],
      "text/plain": [
       "       interested_youtube  interested_netflix\n",
       "count           63.000000           63.000000\n",
       "mean             4.603175            4.698413\n",
       "std              1.100435            1.041632\n",
       "min              1.000000            2.000000\n",
       "25%              4.000000            4.000000\n",
       "50%              5.000000            5.000000\n",
       "75%              5.500000            5.000000\n",
       "max              6.000000            6.000000"
      ]
     },
     "execution_count": 28,
     "metadata": {},
     "output_type": "execute_result"
    }
   ],
   "source": [
    "df1[['interested_youtube', 'interested_netflix']].describe()"
   ]
  },
  {
   "cell_type": "markdown",
   "id": "bf3a38b0",
   "metadata": {},
   "source": [
    "## Compare with t-test two sample\n",
    "\n",
    "- Ho : Interested Youtube = Netflix\n",
    "- H1 : Testerestd Youtube < Netflix  \n",
    "\n",
    "### Result : They are the same. (p-value >= 0.05)"
   ]
  },
  {
   "cell_type": "code",
   "execution_count": 29,
   "id": "1d7788ce",
   "metadata": {},
   "outputs": [
    {
     "data": {
      "text/plain": [
       "Ttest_indResult(statistic=-0.4988836780000391, pvalue=0.3093726035494394)"
      ]
     },
     "execution_count": 29,
     "metadata": {},
     "output_type": "execute_result"
    }
   ],
   "source": [
    "a = df1['interested_youtube'].to_numpy()\n",
    "b = df1['interested_netflix'].to_numpy()\n",
    "\n",
    "st.ttest_ind(a=a, b=b, equal_var=True, alternative='less')"
   ]
  },
  {
   "cell_type": "code",
   "execution_count": 49,
   "id": "d418fb68",
   "metadata": {},
   "outputs": [
    {
     "data": {
      "text/html": [
       "<div>\n",
       "<style scoped>\n",
       "    .dataframe tbody tr th:only-of-type {\n",
       "        vertical-align: middle;\n",
       "    }\n",
       "\n",
       "    .dataframe tbody tr th {\n",
       "        vertical-align: top;\n",
       "    }\n",
       "\n",
       "    .dataframe thead th {\n",
       "        text-align: right;\n",
       "    }\n",
       "</style>\n",
       "<table border=\"1\" class=\"dataframe\">\n",
       "  <thead>\n",
       "    <tr style=\"text-align: right;\">\n",
       "      <th></th>\n",
       "      <th>freq_youtube</th>\n",
       "      <th>freq_netflix</th>\n",
       "    </tr>\n",
       "  </thead>\n",
       "  <tbody>\n",
       "    <tr>\n",
       "      <th>0</th>\n",
       "      <td>4</td>\n",
       "      <td>4</td>\n",
       "    </tr>\n",
       "    <tr>\n",
       "      <th>1</th>\n",
       "      <td>5</td>\n",
       "      <td>3</td>\n",
       "    </tr>\n",
       "    <tr>\n",
       "      <th>2</th>\n",
       "      <td>5</td>\n",
       "      <td>5</td>\n",
       "    </tr>\n",
       "    <tr>\n",
       "      <th>3</th>\n",
       "      <td>4</td>\n",
       "      <td>4</td>\n",
       "    </tr>\n",
       "    <tr>\n",
       "      <th>4</th>\n",
       "      <td>3</td>\n",
       "      <td>4</td>\n",
       "    </tr>\n",
       "    <tr>\n",
       "      <th>...</th>\n",
       "      <td>...</td>\n",
       "      <td>...</td>\n",
       "    </tr>\n",
       "    <tr>\n",
       "      <th>58</th>\n",
       "      <td>5</td>\n",
       "      <td>0</td>\n",
       "    </tr>\n",
       "    <tr>\n",
       "      <th>59</th>\n",
       "      <td>5</td>\n",
       "      <td>3</td>\n",
       "    </tr>\n",
       "    <tr>\n",
       "      <th>60</th>\n",
       "      <td>5</td>\n",
       "      <td>4</td>\n",
       "    </tr>\n",
       "    <tr>\n",
       "      <th>61</th>\n",
       "      <td>3</td>\n",
       "      <td>4</td>\n",
       "    </tr>\n",
       "    <tr>\n",
       "      <th>62</th>\n",
       "      <td>5</td>\n",
       "      <td>4</td>\n",
       "    </tr>\n",
       "  </tbody>\n",
       "</table>\n",
       "<p>63 rows × 2 columns</p>\n",
       "</div>"
      ],
      "text/plain": [
       "    freq_youtube  freq_netflix\n",
       "0              4             4\n",
       "1              5             3\n",
       "2              5             5\n",
       "3              4             4\n",
       "4              3             4\n",
       "..           ...           ...\n",
       "58             5             0\n",
       "59             5             3\n",
       "60             5             4\n",
       "61             3             4\n",
       "62             5             4\n",
       "\n",
       "[63 rows x 2 columns]"
      ]
     },
     "execution_count": 49,
     "metadata": {},
     "output_type": "execute_result"
    }
   ],
   "source": [
    "df2 = df[['freq_youtube', 'freq_netflix']].replace(['แทบทุกวัน',\n",
    "                                                   'อาทิตย์ละครั้ง',\n",
    "                                                   'เดือนละ 2-3 ครั้ง',\n",
    "                                                   'เดือนละครั้ง',\n",
    "                                                   'หลายเดือนครั้ง',\n",
    "                                                   'แทบไม่ได้บริโภคเลย'],\n",
    "                                                  [5, 4, 3, 2, 1, 0])\n",
    "df2[['freq_youtube', 'freq_netflix']]"
   ]
  },
  {
   "cell_type": "markdown",
   "id": "1d918736",
   "metadata": {},
   "source": [
    "## Summary common statistical values"
   ]
  },
  {
   "cell_type": "code",
   "execution_count": 50,
   "id": "a7a10a9f",
   "metadata": {},
   "outputs": [
    {
     "data": {
      "text/html": [
       "<div>\n",
       "<style scoped>\n",
       "    .dataframe tbody tr th:only-of-type {\n",
       "        vertical-align: middle;\n",
       "    }\n",
       "\n",
       "    .dataframe tbody tr th {\n",
       "        vertical-align: top;\n",
       "    }\n",
       "\n",
       "    .dataframe thead th {\n",
       "        text-align: right;\n",
       "    }\n",
       "</style>\n",
       "<table border=\"1\" class=\"dataframe\">\n",
       "  <thead>\n",
       "    <tr style=\"text-align: right;\">\n",
       "      <th></th>\n",
       "      <th>freq_youtube</th>\n",
       "      <th>freq_netflix</th>\n",
       "    </tr>\n",
       "  </thead>\n",
       "  <tbody>\n",
       "    <tr>\n",
       "      <th>count</th>\n",
       "      <td>63.000000</td>\n",
       "      <td>63.000000</td>\n",
       "    </tr>\n",
       "    <tr>\n",
       "      <th>mean</th>\n",
       "      <td>4.492063</td>\n",
       "      <td>3.349206</td>\n",
       "    </tr>\n",
       "    <tr>\n",
       "      <th>std</th>\n",
       "      <td>0.820563</td>\n",
       "      <td>1.577654</td>\n",
       "    </tr>\n",
       "    <tr>\n",
       "      <th>min</th>\n",
       "      <td>2.000000</td>\n",
       "      <td>0.000000</td>\n",
       "    </tr>\n",
       "    <tr>\n",
       "      <th>25%</th>\n",
       "      <td>4.000000</td>\n",
       "      <td>3.000000</td>\n",
       "    </tr>\n",
       "    <tr>\n",
       "      <th>50%</th>\n",
       "      <td>5.000000</td>\n",
       "      <td>4.000000</td>\n",
       "    </tr>\n",
       "    <tr>\n",
       "      <th>75%</th>\n",
       "      <td>5.000000</td>\n",
       "      <td>4.500000</td>\n",
       "    </tr>\n",
       "    <tr>\n",
       "      <th>max</th>\n",
       "      <td>5.000000</td>\n",
       "      <td>5.000000</td>\n",
       "    </tr>\n",
       "  </tbody>\n",
       "</table>\n",
       "</div>"
      ],
      "text/plain": [
       "       freq_youtube  freq_netflix\n",
       "count     63.000000     63.000000\n",
       "mean       4.492063      3.349206\n",
       "std        0.820563      1.577654\n",
       "min        2.000000      0.000000\n",
       "25%        4.000000      3.000000\n",
       "50%        5.000000      4.000000\n",
       "75%        5.000000      4.500000\n",
       "max        5.000000      5.000000"
      ]
     },
     "execution_count": 50,
     "metadata": {},
     "output_type": "execute_result"
    }
   ],
   "source": [
    "df2[['freq_youtube', 'freq_netflix']].describe()"
   ]
  },
  {
   "cell_type": "markdown",
   "id": "3959223b",
   "metadata": {},
   "source": [
    "## Compare with t-test two sample\n",
    "\n",
    "- Ho : Frequency to Watch Youtube = Netflix\n",
    "- H1 : Frequency to Watch Youtube < Netflix  \n",
    "\n",
    "### Result : They are the same. (p-value >= 0.05)"
   ]
  },
  {
   "cell_type": "code",
   "execution_count": 51,
   "id": "53ca0db1",
   "metadata": {},
   "outputs": [
    {
     "data": {
      "text/plain": [
       "Ttest_indResult(statistic=5.101051400309649, pvalue=0.9999993842794955)"
      ]
     },
     "execution_count": 51,
     "metadata": {},
     "output_type": "execute_result"
    }
   ],
   "source": [
    "a2 = df2['freq_youtube'].to_numpy()\n",
    "b2 = df2['freq_netflix'].to_numpy()\n",
    "\n",
    "st.ttest_ind(a=a2, b=b2, equal_var=True, alternative='less')"
   ]
  }
 ],
 "metadata": {
  "kernelspec": {
   "display_name": "Python 3",
   "language": "python",
   "name": "python3"
  },
  "language_info": {
   "codemirror_mode": {
    "name": "ipython",
    "version": 3
   },
   "file_extension": ".py",
   "mimetype": "text/x-python",
   "name": "python",
   "nbconvert_exporter": "python",
   "pygments_lexer": "ipython3",
   "version": "3.8.10"
  }
 },
 "nbformat": 4,
 "nbformat_minor": 5
}
